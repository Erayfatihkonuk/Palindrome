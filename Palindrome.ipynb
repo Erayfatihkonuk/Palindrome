{
 "cells": [
  {
   "cell_type": "code",
   "execution_count": null,
   "id": "35ff9a12-3e8a-48b1-8fd1-c48bd8c30b78",
   "metadata": {},
   "outputs": [],
   "source": [
    "# Bu kısımda bir sözcüğün veya cümlenin palindrom olup olmadığını kontrol edebilecek bir program yazacağız.\n",
    "# Ve bunu bir program yardımıyla \"palindrom oluşturulabilir\" yani True veya \"palindrom oluşturulamaz\" yani False çıktısı olarak göreceğiz."
   ]
  },
  {
   "cell_type": "code",
   "execution_count": null,
   "id": "c7ef7035-1733-4fd8-9fdc-911aa81aec16",
   "metadata": {},
   "outputs": [],
   "source": [
    "text = input()\n",
    "\n",
    "if text[::-1] == text:\n",
    "    print(\"True\")\n",
    "\n",
    "else:\n",
    "    print(\"False\")\n",
    "\n",
    "print(\"Program sona erdi.\")\n",
    "\n",
    "    "
   ]
  },
  {
   "cell_type": "code",
   "execution_count": null,
   "id": "8d2e73dd-655f-4240-9c8b-ed05876aac62",
   "metadata": {},
   "outputs": [],
   "source": []
  },
  {
   "cell_type": "code",
   "execution_count": null,
   "id": "e9e88d63-6316-44b5-a6e8-b19e055ed31e",
   "metadata": {},
   "outputs": [],
   "source": []
  },
  {
   "cell_type": "code",
   "execution_count": null,
   "id": "1451bdb4-f961-4920-a07e-9ca33aad0eea",
   "metadata": {},
   "outputs": [],
   "source": [
    "text = input()\n",
    "\n",
    "print(\"Girdi: \" , text )\n",
    "\n",
    "def is_palindrome(s):\n",
    "    s = s.lower()\n",
    "    reversed_s = s[::-1]\n",
    "    return s == reversed_s\n",
    "\n",
    "print(is_palindrome(text))\n",
    "\n",
    "\n"
   ]
  },
  {
   "cell_type": "code",
   "execution_count": null,
   "id": "cb8dee35-ddc6-4f41-8c1b-a4228e45d2b9",
   "metadata": {},
   "outputs": [],
   "source": []
  },
  {
   "cell_type": "code",
   "execution_count": null,
   "id": "2ae66791-13fc-4256-8e74-d9c903a194ff",
   "metadata": {},
   "outputs": [],
   "source": []
  },
  {
   "cell_type": "markdown",
   "id": "8da62dee",
   "metadata": {},
   "source": []
  },
  {
   "cell_type": "code",
   "execution_count": 2,
   "id": "0156be3a-0766-414a-a020-4077fb202975",
   "metadata": {},
   "outputs": [
    {
     "name": "stderr",
     "output_type": "stream",
     "text": [
      "Girdi:  eray\n",
      "{'e': 1, 'r': 1, 'a': 1, 'y': 1}\n"
     ]
    },
    {
     "name": "stdout",
     "output_type": "stream",
     "text": [
      "False\n"
     ]
    }
   ],
   "source": [
    "# Bu kısımda bir sözcüğün veya cümlenin palindrom olup olmadığını kontrol edebilecek bir program yazacağız.\n",
    "# Ve bunu bir program yardımıyla \"palindrom oluşturulabilir\" yani True veya \"palindrom oluşturulamaz\" yani False çıktısı olarak göreceğiz.\n",
    "\n",
    "import sys\n",
    "import math\n",
    "\n",
    "\n",
    "\n",
    "\n",
    "text = input()\n",
    "\n",
    "print(\"Girdi: \" , text , file = sys.stderr, flush = True)\n",
    "\n",
    "def can_form_palindrome(text):\n",
    "    char_count = {}\n",
    "    for char in text:\n",
    "      char_count[char] = char_count.get(char , 0 ) + 1 \n",
    "\n",
    "    print(char_count, file = sys.stderr, flush = True)\n",
    "\n",
    "    add_count = 0\n",
    "    for count in char_count.values():\n",
    "     if count % 2 != 0:\n",
    "        add_count += 1\n",
    "    # add_count 0 ya da 1\n",
    "\n",
    "    return add_count <= 1     \n",
    "\n",
    "print(can_form_palindrome(text))  \n",
    "\n",
    "    \n",
    "    "
   ]
  },
  {
   "cell_type": "code",
   "execution_count": null,
   "id": "b2a560ea-8783-4f19-be90-28e7bc2e6fd8",
   "metadata": {},
   "outputs": [],
   "source": [
    "# Yt videosundan bir palindrom belirleme örneği\n",
    "import math\n",
    "\n",
    "def is_palindrome(text):\n",
    "  \n",
    "    length = len(text)\n",
    "\n",
    "    for i in range(0 , length // 2):\n",
    "     if (text[i] != text[length - i - 1]):\n",
    "      return False\n",
    "\n",
    "    return True \n",
    "\n",
    "\n",
    "    \n",
    "\n",
    "  "
   ]
  },
  {
   "cell_type": "code",
   "execution_count": null,
   "id": "df996a9e-2e2a-4ca6-ab37-162e3eeaa984",
   "metadata": {},
   "outputs": [],
   "source": [
    "string1 = \"racecar\"\n",
    "print(\"is_palindrome(string1)\")"
   ]
  },
  {
   "cell_type": "code",
   "execution_count": null,
   "id": "67152f25-e3a5-4d10-84a9-049360858dd3",
   "metadata": {},
   "outputs": [],
   "source": []
  },
  {
   "cell_type": "code",
   "execution_count": null,
   "id": "32299ea9-ba7a-4b79-9754-cfdedcb8b0b3",
   "metadata": {},
   "outputs": [],
   "source": []
  },
  {
   "cell_type": "code",
   "execution_count": null,
   "id": "5602ab43-33e5-4e23-a7c4-8d2508b8d449",
   "metadata": {},
   "outputs": [],
   "source": []
  }
 ],
 "metadata": {
  "kernelspec": {
   "display_name": "Python 3 (ipykernel)",
   "language": "python",
   "name": "python3"
  },
  "language_info": {
   "codemirror_mode": {
    "name": "ipython",
    "version": 3
   },
   "file_extension": ".py",
   "mimetype": "text/x-python",
   "name": "python",
   "nbconvert_exporter": "python",
   "pygments_lexer": "ipython3",
   "version": "3.11.7"
  }
 },
 "nbformat": 4,
 "nbformat_minor": 5
}
